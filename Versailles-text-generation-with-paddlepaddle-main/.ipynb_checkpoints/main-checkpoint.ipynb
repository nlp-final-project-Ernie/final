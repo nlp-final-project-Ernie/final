{
 "cells": [
  {
   "cell_type": "markdown",
   "metadata": {},
   "source": [
    "# 用Paddlepaddle做一个凡尔赛文学生成器"
   ]
  },
  {
   "cell_type": "markdown",
   "metadata": {},
   "source": [
    "## 本文禁止转载~"
   ]
  },
  {
   "cell_type": "markdown",
   "metadata": {},
   "source": [
    "之前微博上掀起了一股装逼文体的新热潮\n",
    "\n",
    "该文体先抑后扬\n",
    "\n",
    "​将装逼隐藏在浮于表面的抱怨之中\n",
    "\n",
    "装逼者总是在不经意间流露出贵族式的烦恼\n",
    "\n",
    "看似抱怨\n",
    "\n",
    "实则炫耀\n",
    "\n",
    "这样的写作手法被称作——\n",
    "\n",
    "凡尔赛文学"
   ]
  },
  {
   "cell_type": "markdown",
   "metadata": {},
   "source": [
    "![](https://ai-studio-static-online.cdn.bcebos.com/bfd834bb278946d8a1c6370809612a2d350d2a5ec9af4beca7c2a250310981e9)\n",
    "\n",
    "![](https://ai-studio-static-online.cdn.bcebos.com/e74f871faf3e4e0ca444c9e2bd73b7a539f78c7002d048bb92ba31f93c8617f7)\n"
   ]
  },
  {
   "cell_type": "markdown",
   "metadata": {},
   "source": [
    "本项目运用Paddlehub实现了根据关键词的凡尔赛文学自动生成器。\n",
    "\n",
    "![](https://ai-studio-static-online.cdn.bcebos.com/8206ec3b0f654ec2b18a2867a7b6be7b7f3e9d93d60b4b78bb981eec0d1570c8)\n"
   ]
  },
  {
   "cell_type": "markdown",
   "metadata": {},
   "source": [
    "## 1. 安装相关库"
   ]
  },
  {
   "cell_type": "code",
   "execution_count": null,
   "metadata": {},
   "outputs": [
    {
     "name": "stdout",
     "output_type": "stream",
     "text": [
      "Collecting xlrd\n",
      "  Downloading xlrd-2.0.1-py2.py3-none-any.whl (96 kB)\n",
      "     -------------------------------------- 96.5/96.5 kB 690.3 kB/s eta 0:00:00\n",
      "Installing collected packages: xlrd\n",
      "Successfully installed xlrd-2.0.1\n",
      "Collecting paddlehub\n",
      "  Downloading paddlehub-2.4.0-py3-none-any.whl.metadata (1.7 kB)\n",
      "Requirement already satisfied: colorama in c:\\users\\dell\\appdata\\local\\programs\\python\\python37\\lib\\site-packages (from paddlehub) (0.4.6)\n",
      "Collecting colorlog (from paddlehub)\n",
      "  Downloading colorlog-6.8.0-py3-none-any.whl.metadata (10 kB)\n",
      "Collecting easydict (from paddlehub)\n",
      "  Downloading easydict-1.11.tar.gz (6.6 kB)\n",
      "  Preparing metadata (setup.py): started\n",
      "  Preparing metadata (setup.py): finished with status 'done'\n",
      "Collecting filelock (from paddlehub)\n",
      "  Downloading filelock-3.12.2-py3-none-any.whl.metadata (2.7 kB)\n",
      "Collecting flask>=1.1.0 (from paddlehub)\n",
      "  Downloading Flask-2.2.5-py3-none-any.whl (101 kB)\n",
      "     ------------------------------------ 101.8/101.8 kB 732.6 kB/s eta 0:00:00\n",
      "Requirement already satisfied: numpy in c:\\users\\dell\\appdata\\local\\programs\\python\\python37\\lib\\site-packages (from paddlehub) (1.19.3)\n",
      "Requirement already satisfied: matplotlib in c:\\users\\dell\\appdata\\local\\programs\\python\\python37\\lib\\site-packages (from paddlehub) (3.5.3)\n",
      "Requirement already satisfied: opencv-python in c:\\users\\dell\\appdata\\local\\programs\\python\\python37\\lib\\site-packages (from paddlehub) (4.2.0.32)\n",
      "Requirement already satisfied: packaging in c:\\users\\dell\\appdata\\local\\programs\\python\\python37\\lib\\site-packages (from paddlehub) (23.1)\n",
      "Collecting paddle2onnx>=0.5.1 (from paddlehub)\n",
      "  Downloading paddle2onnx-1.0.6-cp37-cp37m-win_amd64.whl (1.7 MB)\n",
      "     ---------------------------------------- 1.7/1.7 MB 3.7 MB/s eta 0:00:00\n",
      "Collecting paddlenlp>=2.0.0 (from paddlehub)\n",
      "  Downloading paddlenlp-2.6.1-py3-none-any.whl.metadata (28 kB)\n",
      "Requirement already satisfied: Pillow in c:\\users\\dell\\appdata\\local\\programs\\python\\python37\\lib\\site-packages (from paddlehub) (9.5.0)\n",
      "Requirement already satisfied: pyyaml in c:\\users\\dell\\appdata\\local\\programs\\python\\python37\\lib\\site-packages (from paddlehub) (6.0.1)\n",
      "Requirement already satisfied: pyzmq in c:\\users\\dell\\appdata\\local\\programs\\python\\python37\\lib\\site-packages (from paddlehub) (24.0.1)\n",
      "Requirement already satisfied: rarfile in c:\\users\\dell\\appdata\\local\\programs\\python\\python37\\lib\\site-packages (from paddlehub) (4.1)\n",
      "Requirement already satisfied: tqdm in c:\\users\\dell\\appdata\\local\\programs\\python\\python37\\lib\\site-packages (from paddlehub) (4.66.1)\n",
      "Collecting visualdl>=2.0.0 (from paddlehub)\n",
      "  Downloading visualdl-2.5.3-py3-none-any.whl.metadata (25 kB)\n",
      "Collecting gradio (from paddlehub)\n",
      "  Downloading gradio-3.34.0-py3-none-any.whl.metadata (15 kB)\n",
      "Requirement already satisfied: Werkzeug>=2.2.2 in c:\\users\\dell\\appdata\\local\\programs\\python\\python37\\lib\\site-packages (from flask>=1.1.0->paddlehub) (2.2.3)\n",
      "Requirement already satisfied: Jinja2>=3.0 in c:\\users\\dell\\appdata\\local\\programs\\python\\python37\\lib\\site-packages (from flask>=1.1.0->paddlehub) (3.1.2)\n",
      "Collecting itsdangerous>=2.0 (from flask>=1.1.0->paddlehub)\n",
      "  Downloading itsdangerous-2.1.2-py3-none-any.whl (15 kB)\n",
      "Requirement already satisfied: click>=8.0 in c:\\users\\dell\\appdata\\local\\programs\\python\\python37\\lib\\site-packages (from flask>=1.1.0->paddlehub) (8.1.7)\n",
      "Requirement already satisfied: importlib-metadata>=3.6.0 in c:\\users\\dell\\appdata\\local\\programs\\python\\python37\\lib\\site-packages (from flask>=1.1.0->paddlehub) (6.7.0)\n",
      "Requirement already satisfied: six in c:\\users\\dell\\appdata\\local\\programs\\python\\python37\\lib\\site-packages (from paddle2onnx>=0.5.1->paddlehub) (1.16.0)\n",
      "Collecting jieba (from paddlenlp>=2.0.0->paddlehub)\n",
      "  Downloading jieba-0.42.1.tar.gz (19.2 MB)\n",
      "     --------------------------------------- 19.2/19.2 MB 18.2 MB/s eta 0:00:00\n",
      "  Preparing metadata (setup.py): started\n",
      "  Preparing metadata (setup.py): finished with status 'done'\n",
      "Collecting seqeval (from paddlenlp>=2.0.0->paddlehub)\n",
      "  Downloading seqeval-1.2.2.tar.gz (43 kB)\n",
      "     ---------------------------------------- 43.6/43.6 kB 2.2 MB/s eta 0:00:00\n",
      "  Preparing metadata (setup.py): started\n",
      "  Preparing metadata (setup.py): finished with status 'done'\n",
      "Collecting dill<0.3.5 (from paddlenlp>=2.0.0->paddlehub)\n",
      "  Downloading dill-0.3.4-py2.py3-none-any.whl (86 kB)\n",
      "     ---------------------------------------- 86.9/86.9 kB 5.1 MB/s eta 0:00:00\n",
      "Collecting multiprocess<=0.70.12.2 (from paddlenlp>=2.0.0->paddlehub)\n",
      "  Downloading multiprocess-0.70.12.2-py37-none-any.whl (112 kB)\n",
      "     ---------------------------------------- 112.1/112.1 kB ? eta 0:00:00\n",
      "Collecting datasets>=2.0.0 (from paddlenlp>=2.0.0->paddlehub)\n",
      "  Downloading datasets-2.13.2-py3-none-any.whl.metadata (20 kB)\n",
      "Collecting paddlefsl (from paddlenlp>=2.0.0->paddlehub)\n",
      "  Downloading paddlefsl-1.1.0-py3-none-any.whl (101 kB)\n",
      "     ---------------------------------------- 101.0/101.0 kB ? eta 0:00:00\n",
      "Requirement already satisfied: sentencepiece in c:\\users\\dell\\appdata\\roaming\\python\\python37\\site-packages (from paddlenlp>=2.0.0->paddlehub) (0.1.99)\n",
      "Collecting huggingface-hub>=0.11.1 (from paddlenlp>=2.0.0->paddlehub)\n",
      "  Downloading huggingface_hub-0.16.4-py3-none-any.whl.metadata (12 kB)\n",
      "Collecting onnx>=1.10.0 (from paddlenlp>=2.0.0->paddlehub)\n",
      "  Downloading onnx-1.14.1-cp37-cp37m-win_amd64.whl.metadata (15 kB)\n",
      "Collecting protobuf==3.20.2 (from paddlenlp>=2.0.0->paddlehub)\n",
      "  Downloading protobuf-3.20.2-cp37-cp37m-win_amd64.whl (905 kB)\n",
      "     ------------------------------------- 905.1/905.1 kB 14.2 MB/s eta 0:00:00\n",
      "Collecting Flask-Babel (from paddlenlp>=2.0.0->paddlehub)\n",
      "  Downloading flask_babel-3.1.0-py3-none-any.whl (9.6 kB)\n",
      "Collecting fastapi (from paddlenlp>=2.0.0->paddlehub)\n",
      "  Downloading fastapi-0.103.2-py3-none-any.whl.metadata (24 kB)\n",
      "Collecting uvicorn (from paddlenlp>=2.0.0->paddlehub)\n",
      "  Downloading uvicorn-0.22.0-py3-none-any.whl (58 kB)\n",
      "     ---------------------------------------- 58.3/58.3 kB 3.0 MB/s eta 0:00:00\n",
      "Collecting typer (from paddlenlp>=2.0.0->paddlehub)\n",
      "  Downloading typer-0.9.0-py3-none-any.whl (45 kB)\n",
      "     ---------------------------------------- 45.9/45.9 kB ? eta 0:00:00\n",
      "Collecting rich (from paddlenlp>=2.0.0->paddlehub)\n",
      "  Downloading rich-13.7.0-py3-none-any.whl.metadata (18 kB)\n",
      "Collecting safetensors (from paddlenlp>=2.0.0->paddlehub)\n",
      "  Downloading safetensors-0.4.1-cp37-none-win_amd64.whl.metadata (3.8 kB)\n",
      "Collecting bce-python-sdk (from visualdl>=2.0.0->paddlehub)\n",
      "  Downloading bce_python_sdk-0.8.97-py3-none-any.whl.metadata (319 bytes)\n",
      "Requirement already satisfied: requests in c:\\users\\dell\\appdata\\local\\programs\\python\\python37\\lib\\site-packages (from visualdl>=2.0.0->paddlehub) (2.31.0)\n",
      "Collecting pandas (from visualdl>=2.0.0->paddlehub)\n",
      "  Downloading pandas-1.3.5-cp37-cp37m-win_amd64.whl (10.0 MB)\n",
      "     ---------------------------------------- 10.0/10.0 MB 8.0 MB/s eta 0:00:00\n",
      "Requirement already satisfied: psutil in c:\\users\\dell\\appdata\\local\\programs\\python\\python37\\lib\\site-packages (from visualdl>=2.0.0->paddlehub) (5.9.7)\n",
      "Collecting aiofiles (from gradio->paddlehub)\n",
      "  Downloading aiofiles-23.2.1-py3-none-any.whl.metadata (9.7 kB)\n",
      "Collecting aiohttp (from gradio->paddlehub)\n",
      "  Downloading aiohttp-3.8.6-cp37-cp37m-win_amd64.whl.metadata (7.9 kB)\n",
      "Collecting altair>=4.2.0 (from gradio->paddlehub)\n",
      "  Downloading altair-5.0.1-py3-none-any.whl.metadata (8.5 kB)\n",
      "Collecting ffmpy (from gradio->paddlehub)\n",
      "  Downloading ffmpy-0.3.1.tar.gz (5.5 kB)\n",
      "  Preparing metadata (setup.py): started\n",
      "  Preparing metadata (setup.py): finished with status 'done'\n",
      "Collecting gradio-client>=0.2.6 (from gradio->paddlehub)\n",
      "  Downloading gradio_client-0.2.6-py3-none-any.whl.metadata (7.1 kB)\n",
      "Requirement already satisfied: httpx in c:\\users\\dell\\appdata\\local\\programs\\python\\python37\\lib\\site-packages (from gradio->paddlehub) (0.24.1)\n",
      "Collecting markdown-it-py>=2.0.0 (from markdown-it-py[linkify]>=2.0.0->gradio->paddlehub)\n",
      "  Downloading markdown_it_py-2.2.0-py3-none-any.whl (84 kB)\n",
      "     ---------------------------------------- 84.5/84.5 kB 4.6 MB/s eta 0:00:00\n",
      "Requirement already satisfied: markupsafe in c:\\users\\dell\\appdata\\local\\programs\\python\\python37\\lib\\site-packages (from gradio->paddlehub) (2.1.3)\n",
      "Collecting mdit-py-plugins<=0.3.3 (from gradio->paddlehub)\n",
      "  Downloading mdit_py_plugins-0.3.3-py3-none-any.whl (50 kB)\n",
      "     ---------------------------------------- 50.5/50.5 kB ? eta 0:00:00\n",
      "Collecting orjson (from gradio->paddlehub)\n",
      "  Downloading orjson-3.9.7-cp37-none-win_amd64.whl.metadata (50 kB)\n",
      "     ---------------------------------------- 50.4/50.4 kB ? eta 0:00:00\n",
      "Collecting pydantic (from gradio->paddlehub)\n",
      "  Downloading pydantic-2.5.2-py3-none-any.whl.metadata (65 kB)\n",
      "     ---------------------------------------- 65.2/65.2 kB 3.4 MB/s eta 0:00:00\n",
      "Collecting pydub (from gradio->paddlehub)\n",
      "  Downloading pydub-0.25.1-py2.py3-none-any.whl (32 kB)\n",
      "Requirement already satisfied: pygments>=2.12.0 in c:\\users\\dell\\appdata\\local\\programs\\python\\python37\\lib\\site-packages (from gradio->paddlehub) (2.17.2)\n",
      "Collecting python-multipart (from gradio->paddlehub)\n",
      "  Downloading python_multipart-0.0.6-py3-none-any.whl (45 kB)\n",
      "     ---------------------------------------- 45.7/45.7 kB ? eta 0:00:00\n",
      "Collecting semantic-version (from gradio->paddlehub)\n",
      "  Downloading semantic_version-2.10.0-py2.py3-none-any.whl (15 kB)\n",
      "Requirement already satisfied: typing-extensions in c:\\users\\dell\\appdata\\local\\programs\\python\\python37\\lib\\site-packages (from gradio->paddlehub) (4.5.0)\n",
      "Collecting websockets>=10.0 (from gradio->paddlehub)\n",
      "  Downloading websockets-11.0.3-cp37-cp37m-win_amd64.whl (124 kB)\n",
      "     -------------------------------------- 124.7/124.7 kB 7.6 MB/s eta 0:00:00\n",
      "Requirement already satisfied: cycler>=0.10 in c:\\users\\dell\\appdata\\local\\programs\\python\\python37\\lib\\site-packages (from matplotlib->paddlehub) (0.11.0)\n",
      "Requirement already satisfied: fonttools>=4.22.0 in c:\\users\\dell\\appdata\\local\\programs\\python\\python37\\lib\\site-packages (from matplotlib->paddlehub) (4.38.0)\n",
      "Requirement already satisfied: kiwisolver>=1.0.1 in c:\\users\\dell\\appdata\\local\\programs\\python\\python37\\lib\\site-packages (from matplotlib->paddlehub) (1.4.4)\n",
      "Requirement already satisfied: pyparsing>=2.2.1 in c:\\users\\dell\\appdata\\local\\programs\\python\\python37\\lib\\site-packages (from matplotlib->paddlehub) (3.1.0)\n",
      "Requirement already satisfied: python-dateutil>=2.7 in c:\\users\\dell\\appdata\\local\\programs\\python\\python37\\lib\\site-packages (from matplotlib->paddlehub) (2.8.2)\n",
      "Requirement already satisfied: jsonschema>=3.0 in c:\\users\\dell\\appdata\\local\\programs\\python\\python37\\lib\\site-packages (from altair>=4.2.0->gradio->paddlehub) (4.17.3)\n",
      "Collecting toolz (from altair>=4.2.0->gradio->paddlehub)\n",
      "  Downloading toolz-0.12.0-py3-none-any.whl (55 kB)\n",
      "     ---------------------------------------- 55.8/55.8 kB ? eta 0:00:00\n",
      "Collecting pyarrow>=8.0.0 (from datasets>=2.0.0->paddlenlp>=2.0.0->paddlehub)\n",
      "  Downloading pyarrow-12.0.1-cp37-cp37m-win_amd64.whl.metadata (3.1 kB)\n",
      "Collecting xxhash (from datasets>=2.0.0->paddlenlp>=2.0.0->paddlehub)\n",
      "  Downloading xxhash-3.4.1-cp37-cp37m-win_amd64.whl.metadata (12 kB)\n",
      "Collecting fsspec>=2021.11.1 (from fsspec[http]>=2021.11.1->datasets>=2.0.0->paddlenlp>=2.0.0->paddlehub)\n",
      "  Downloading fsspec-2023.1.0-py3-none-any.whl (143 kB)\n",
      "     -------------------------------------- 143.0/143.0 kB 8.3 MB/s eta 0:00:00\n",
      "Collecting Babel>=2.12 (from Flask-Babel->paddlenlp>=2.0.0->paddlehub)\n",
      "  Downloading Babel-2.14.0-py3-none-any.whl.metadata (1.6 kB)\n",
      "Collecting pytz>=2022.7 (from Flask-Babel->paddlenlp>=2.0.0->paddlehub)\n",
      "  Downloading pytz-2023.3.post1-py2.py3-none-any.whl.metadata (22 kB)\n",
      "Requirement already satisfied: zipp>=0.5 in c:\\users\\dell\\appdata\\local\\programs\\python\\python37\\lib\\site-packages (from importlib-metadata>=3.6.0->flask>=1.1.0->paddlehub) (3.15.0)\n",
      "Collecting mdurl~=0.1 (from markdown-it-py>=2.0.0->markdown-it-py[linkify]>=2.0.0->gradio->paddlehub)\n",
      "  Downloading mdurl-0.1.2-py3-none-any.whl (10.0 kB)\n",
      "Collecting linkify-it-py<3,>=1 (from markdown-it-py[linkify]>=2.0.0->gradio->paddlehub)\n",
      "  Downloading linkify_it_py-2.0.2-py3-none-any.whl (19 kB)\n",
      "Requirement already satisfied: charset-normalizer<4,>=2 in c:\\users\\dell\\appdata\\local\\programs\\python\\python37\\lib\\site-packages (from requests->visualdl>=2.0.0->paddlehub) (3.2.0)\n",
      "Requirement already satisfied: idna<4,>=2.5 in c:\\users\\dell\\appdata\\local\\programs\\python\\python37\\lib\\site-packages (from requests->visualdl>=2.0.0->paddlehub) (3.4)\n",
      "Requirement already satisfied: urllib3<3,>=1.21.1 in c:\\users\\dell\\appdata\\local\\programs\\python\\python37\\lib\\site-packages (from requests->visualdl>=2.0.0->paddlehub) (1.26.16)\n",
      "Requirement already satisfied: certifi>=2017.4.17 in c:\\users\\dell\\appdata\\local\\programs\\python\\python37\\lib\\site-packages (from requests->visualdl>=2.0.0->paddlehub) (2023.7.22)\n",
      "Requirement already satisfied: h11>=0.8 in c:\\users\\dell\\appdata\\local\\programs\\python\\python37\\lib\\site-packages (from uvicorn->paddlenlp>=2.0.0->paddlehub) (0.14.0)\n",
      "Requirement already satisfied: attrs>=17.3.0 in c:\\users\\dell\\appdata\\local\\programs\\python\\python37\\lib\\site-packages (from aiohttp->gradio->paddlehub) (23.1.0)\n",
      "Collecting multidict<7.0,>=4.5 (from aiohttp->gradio->paddlehub)\n",
      "  Downloading multidict-6.0.4-cp37-cp37m-win_amd64.whl (27 kB)\n",
      "Collecting async-timeout<5.0,>=4.0.0a3 (from aiohttp->gradio->paddlehub)\n",
      "  Downloading async_timeout-4.0.3-py3-none-any.whl.metadata (4.2 kB)\n",
      "Collecting yarl<2.0,>=1.0 (from aiohttp->gradio->paddlehub)\n",
      "  Downloading yarl-1.9.4-cp37-cp37m-win_amd64.whl.metadata (32 kB)\n",
      "Collecting frozenlist>=1.1.1 (from aiohttp->gradio->paddlehub)\n",
      "  Downloading frozenlist-1.3.3-cp37-cp37m-win_amd64.whl (34 kB)\n",
      "Collecting aiosignal>=1.1.2 (from aiohttp->gradio->paddlehub)\n",
      "  Downloading aiosignal-1.3.1-py3-none-any.whl (7.6 kB)\n",
      "Collecting asynctest==0.13.0 (from aiohttp->gradio->paddlehub)\n",
      "  Downloading asynctest-0.13.0-py3-none-any.whl (26 kB)\n",
      "Collecting pycryptodome>=3.8.0 (from bce-python-sdk->visualdl>=2.0.0->paddlehub)\n",
      "  Downloading pycryptodome-3.19.0-cp35-abi3-win_amd64.whl.metadata (3.4 kB)\n",
      "Requirement already satisfied: future>=0.6.0 in c:\\users\\dell\\appdata\\local\\programs\\python\\python37\\lib\\site-packages (from bce-python-sdk->visualdl>=2.0.0->paddlehub) (0.18.2)\n",
      "Requirement already satisfied: anyio<4.0.0,>=3.7.1 in c:\\users\\dell\\appdata\\local\\programs\\python\\python37\\lib\\site-packages (from fastapi->paddlenlp>=2.0.0->paddlehub) (3.7.1)\n",
      "Collecting starlette<0.28.0,>=0.27.0 (from fastapi->paddlenlp>=2.0.0->paddlehub)\n",
      "  Downloading starlette-0.27.0-py3-none-any.whl.metadata (5.8 kB)\n",
      "Collecting annotated-types>=0.4.0 (from pydantic->gradio->paddlehub)\n",
      "  Downloading annotated_types-0.5.0-py3-none-any.whl.metadata (11 kB)\n",
      "Collecting pydantic-core==2.14.5 (from pydantic->gradio->paddlehub)\n",
      "  Downloading pydantic_core-2.14.5-cp37-none-win_amd64.whl.metadata (6.6 kB)\n",
      "Collecting typing-extensions (from gradio->paddlehub)\n",
      "  Downloading typing_extensions-4.7.1-py3-none-any.whl.metadata (3.1 kB)\n",
      "Requirement already satisfied: httpcore<0.18.0,>=0.15.0 in c:\\users\\dell\\appdata\\local\\programs\\python\\python37\\lib\\site-packages (from httpx->gradio->paddlehub) (0.17.3)\n",
      "Requirement already satisfied: sniffio in c:\\users\\dell\\appdata\\local\\programs\\python\\python37\\lib\\site-packages (from httpx->gradio->paddlehub) (1.3.0)\n",
      "Collecting scikit-learn>=0.21.3 (from seqeval->paddlenlp>=2.0.0->paddlehub)\n",
      "  Downloading scikit_learn-1.0.2-cp37-cp37m-win_amd64.whl (7.1 MB)\n",
      "     ---------------------------------------- 7.1/7.1 MB 18.9 MB/s eta 0:00:00\n",
      "Requirement already satisfied: exceptiongroup in c:\\users\\dell\\appdata\\local\\programs\\python\\python37\\lib\\site-packages (from anyio<4.0.0,>=3.7.1->fastapi->paddlenlp>=2.0.0->paddlehub) (1.2.0)\n",
      "Requirement already satisfied: importlib-resources>=1.4.0 in c:\\users\\dell\\appdata\\local\\programs\\python\\python37\\lib\\site-packages (from jsonschema>=3.0->altair>=4.2.0->gradio->paddlehub) (5.12.0)\n",
      "Requirement already satisfied: pkgutil-resolve-name>=1.3.10 in c:\\users\\dell\\appdata\\local\\programs\\python\\python37\\lib\\site-packages (from jsonschema>=3.0->altair>=4.2.0->gradio->paddlehub) (1.3.10)\n",
      "Requirement already satisfied: pyrsistent!=0.17.0,!=0.17.1,!=0.17.2,>=0.14.0 in c:\\users\\dell\\appdata\\local\\programs\\python\\python37\\lib\\site-packages (from jsonschema>=3.0->altair>=4.2.0->gradio->paddlehub) (0.19.3)\n",
      "Collecting uc-micro-py (from linkify-it-py<3,>=1->markdown-it-py[linkify]>=2.0.0->gradio->paddlehub)\n",
      "  Downloading uc_micro_py-1.0.2-py3-none-any.whl (6.2 kB)\n",
      "Requirement already satisfied: scipy>=1.1.0 in c:\\users\\dell\\appdata\\local\\programs\\python\\python37\\lib\\site-packages (from scikit-learn>=0.21.3->seqeval->paddlenlp>=2.0.0->paddlehub) (1.7.3)\n",
      "Requirement already satisfied: joblib>=0.11 in c:\\users\\dell\\appdata\\local\\programs\\python\\python37\\lib\\site-packages (from scikit-learn>=0.21.3->seqeval->paddlenlp>=2.0.0->paddlehub) (1.3.2)\n",
      "Collecting threadpoolctl>=2.0.0 (from scikit-learn>=0.21.3->seqeval->paddlenlp>=2.0.0->paddlehub)\n",
      "  Downloading threadpoolctl-3.1.0-py3-none-any.whl (14 kB)\n",
      "Downloading paddlehub-2.4.0-py3-none-any.whl (213 kB)\n",
      "   --------------------------------------- 213.9/213.9 kB 12.7 MB/s eta 0:00:00\n",
      "Downloading paddlenlp-2.6.1-py3-none-any.whl (2.7 MB)\n",
      "   ---------------------------------------- 2.7/2.7 MB 19.1 MB/s eta 0:00:00\n",
      "Downloading visualdl-2.5.3-py3-none-any.whl (6.3 MB)\n",
      "   ---------------------------------------- 6.3/6.3 MB 19.3 MB/s eta 0:00:00\n",
      "Downloading colorlog-6.8.0-py3-none-any.whl (11 kB)\n",
      "Downloading filelock-3.12.2-py3-none-any.whl (10 kB)\n",
      "Downloading gradio-3.34.0-py3-none-any.whl (20.0 MB)\n",
      "   ---------------------------------------- 20.0/20.0 MB 18.2 MB/s eta 0:00:00\n",
      "Downloading altair-5.0.1-py3-none-any.whl (471 kB)\n",
      "   --------------------------------------- 471.5/471.5 kB 14.9 MB/s eta 0:00:00\n",
      "Downloading datasets-2.13.2-py3-none-any.whl (512 kB)\n",
      "   --------------------------------------- 512.7/512.7 kB 15.7 MB/s eta 0:00:00\n",
      "Downloading gradio_client-0.2.6-py3-none-any.whl (288 kB)\n",
      "   --------------------------------------- 288.3/288.3 kB 17.4 MB/s eta 0:00:00\n",
      "Downloading huggingface_hub-0.16.4-py3-none-any.whl (268 kB)\n",
      "   --------------------------------------- 268.8/268.8 kB 16.2 MB/s eta 0:00:00\n",
      "Downloading onnx-1.14.1-cp37-cp37m-win_amd64.whl (13.3 MB)\n",
      "   ---------------------------------------- 13.3/13.3 MB 18.2 MB/s eta 0:00:00\n",
      "Downloading aiofiles-23.2.1-py3-none-any.whl (15 kB)\n",
      "Downloading aiohttp-3.8.6-cp37-cp37m-win_amd64.whl (326 kB)\n",
      "   --------------------------------------- 326.9/326.9 kB 10.2 MB/s eta 0:00:00\n",
      "Downloading bce_python_sdk-0.8.97-py3-none-any.whl (241 kB)\n",
      "   --------------------------------------- 241.5/241.5 kB 14.5 MB/s eta 0:00:00\n",
      "Downloading fastapi-0.103.2-py3-none-any.whl (66 kB)\n",
      "   ---------------------------------------- 66.3/66.3 kB 3.5 MB/s eta 0:00:00\n",
      "Downloading pydantic-2.5.2-py3-none-any.whl (381 kB)\n",
      "   --------------------------------------- 381.9/381.9 kB 12.0 MB/s eta 0:00:00\n",
      "Downloading pydantic_core-2.14.5-cp37-none-win_amd64.whl (1.9 MB)\n",
      "   ---------------------------------------- 1.9/1.9 MB 20.0 MB/s eta 0:00:00\n",
      "Downloading typing_extensions-4.7.1-py3-none-any.whl (33 kB)\n",
      "Downloading orjson-3.9.7-cp37-none-win_amd64.whl (134 kB)\n",
      "   ---------------------------------------- 134.6/134.6 kB 7.8 MB/s eta 0:00:00\n",
      "Downloading rich-13.7.0-py3-none-any.whl (240 kB)\n",
      "   ---------------------------------------- 240.6/240.6 kB 7.4 MB/s eta 0:00:00\n",
      "Downloading safetensors-0.4.1-cp37-none-win_amd64.whl (277 kB)\n",
      "   ---------------------------------------- 277.7/277.7 kB 8.6 MB/s eta 0:00:00\n",
      "Downloading annotated_types-0.5.0-py3-none-any.whl (11 kB)\n",
      "Downloading async_timeout-4.0.3-py3-none-any.whl (5.7 kB)\n",
      "Downloading Babel-2.14.0-py3-none-any.whl (11.0 MB)\n",
      "   ---------------------------------------- 11.0/11.0 MB 9.2 MB/s eta 0:00:00\n",
      "Downloading pyarrow-12.0.1-cp37-cp37m-win_amd64.whl (21.5 MB)\n",
      "   ---------------------------------------- 21.5/21.5 MB 6.7 MB/s eta 0:00:00\n",
      "Downloading pycryptodome-3.19.0-cp35-abi3-win_amd64.whl (1.7 MB)\n",
      "   ---------------------------------------- 1.7/1.7 MB 11.1 MB/s eta 0:00:00\n",
      "Downloading pytz-2023.3.post1-py2.py3-none-any.whl (502 kB)\n",
      "   --------------------------------------- 502.5/502.5 kB 15.9 MB/s eta 0:00:00\n",
      "Downloading starlette-0.27.0-py3-none-any.whl (66 kB)\n",
      "   ---------------------------------------- 67.0/67.0 kB 1.2 MB/s eta 0:00:00\n",
      "Downloading yarl-1.9.4-cp37-cp37m-win_amd64.whl (77 kB)\n",
      "   ---------------------------------------- 77.2/77.2 kB 4.2 MB/s eta 0:00:00\n",
      "Downloading xxhash-3.4.1-cp37-cp37m-win_amd64.whl (29 kB)\n",
      "Building wheels for collected packages: easydict, ffmpy, jieba, seqeval\n",
      "  Building wheel for easydict (setup.py): started\n",
      "  Building wheel for easydict (setup.py): finished with status 'done'\n",
      "  Created wheel for easydict: filename=easydict-1.11-py3-none-any.whl size=6691 sha256=edacb405bca0131e453a899846a7010a1607e022fda88b39bcd5e6786ff2eaca\n",
      "  Stored in directory: c:\\users\\dell\\appdata\\local\\pip\\cache\\wheels\\8c\\d4\\68\\23bb57ca66f72f5c13f1f50aa980df9eb89839e46a675829c3\n",
      "  Building wheel for ffmpy (setup.py): started\n",
      "  Building wheel for ffmpy (setup.py): finished with status 'done'\n",
      "  Created wheel for ffmpy: filename=ffmpy-0.3.1-py3-none-any.whl size=5600 sha256=5d30d5c1830b3da415b40d0ba30507db62faaaa72f8840fe381a398e101467aa\n",
      "  Stored in directory: c:\\users\\dell\\appdata\\local\\pip\\cache\\wheels\\e7\\85\\80\\52fc98d22e539825cb6529779ae360ed46f0eecfea1a01f200\n",
      "  Building wheel for jieba (setup.py): started\n",
      "  Building wheel for jieba (setup.py): finished with status 'done'\n",
      "  Created wheel for jieba: filename=jieba-0.42.1-py3-none-any.whl size=19314474 sha256=e958815c352ac49f8cb048641bc894340d4b64379ec815df575486f1ca98d508\n",
      "  Stored in directory: c:\\users\\dell\\appdata\\local\\pip\\cache\\wheels\\24\\aa\\17\\5bc7c72e9a37990a9620cc3aad0acad1564dcff6dbc2359de3\n",
      "  Building wheel for seqeval (setup.py): started\n",
      "  Building wheel for seqeval (setup.py): finished with status 'done'\n",
      "  Created wheel for seqeval: filename=seqeval-1.2.2-py3-none-any.whl size=16189 sha256=f06a0fc987b42573e813d22cc2f643603c2ff7c3055eb44de7b90cd58828621f\n",
      "  Stored in directory: c:\\users\\dell\\appdata\\local\\pip\\cache\\wheels\\05\\96\\ee\\7cac4e74f3b19e3158dce26a20a1c86b3533c43ec72a549fd7\n",
      "Successfully built easydict ffmpy jieba seqeval\n",
      "Installing collected packages: pytz, pydub, jieba, ffmpy, easydict, xxhash, websockets, uc-micro-py, typing-extensions, toolz, threadpoolctl, semantic-version, safetensors, python-multipart, pycryptodome, pyarrow, protobuf, paddle2onnx, orjson, multidict, mdurl, itsdangerous, fsspec, frozenlist, filelock, dill, colorlog, Babel, asynctest, aiofiles, yarl, scikit-learn, pydantic-core, pandas, paddlefsl, onnx, multiprocess, markdown-it-py, linkify-it-py, bce-python-sdk, async-timeout, annotated-types, aiosignal, starlette, seqeval, rich, pydantic, mdit-py-plugins, huggingface-hub, uvicorn, typer, flask, fastapi, aiohttp, gradio-client, Flask-Babel, altair, visualdl, gradio, datasets, paddlenlp, paddlehub\n",
      "  Attempting uninstall: typing-extensions\n",
      "    Found existing installation: typing_extensions 4.5.0\n",
      "    Uninstalling typing_extensions-4.5.0:\n",
      "      Successfully uninstalled typing_extensions-4.5.0\n",
      "  Attempting uninstall: protobuf\n",
      "    Found existing installation: protobuf 3.19.6\n",
      "    Uninstalling protobuf-3.19.6:\n",
      "      Successfully uninstalled protobuf-3.19.6\n",
      "  Attempting uninstall: dill\n",
      "    Found existing installation: dill 0.3.6\n",
      "    Uninstalling dill-0.3.6:\n",
      "      Successfully uninstalled dill-0.3.6\n",
      "Successfully installed Babel-2.14.0 Flask-Babel-3.1.0 aiofiles-23.2.1 aiohttp-3.8.6 aiosignal-1.3.1 altair-5.0.1 annotated-types-0.5.0 async-timeout-4.0.3 asynctest-0.13.0 bce-python-sdk-0.8.97 colorlog-6.8.0 datasets-2.13.2 dill-0.3.4 easydict-1.11 fastapi-0.103.2 ffmpy-0.3.1 filelock-3.12.2 flask-2.2.5 frozenlist-1.3.3 fsspec-2023.1.0 gradio-3.34.0 gradio-client-0.2.6 huggingface-hub-0.16.4 itsdangerous-2.1.2 jieba-0.42.1 linkify-it-py-2.0.2 markdown-it-py-2.2.0 mdit-py-plugins-0.3.3 mdurl-0.1.2 multidict-6.0.4 multiprocess-0.70.12.2 onnx-1.14.1 orjson-3.9.7 paddle2onnx-1.0.6 paddlefsl-1.1.0 paddlehub-2.4.0 paddlenlp-2.6.1 pandas-1.3.5 protobuf-3.20.2 pyarrow-12.0.1 pycryptodome-3.19.0 pydantic-2.5.2 pydantic-core-2.14.5 pydub-0.25.1 python-multipart-0.0.6 pytz-2023.3.post1 rich-13.7.0 safetensors-0.4.1 scikit-learn-1.0.2 semantic-version-2.10.0 seqeval-1.2.2 starlette-0.27.0 threadpoolctl-3.1.0 toolz-0.12.0 typer-0.9.0 typing-extensions-4.7.1 uc-micro-py-1.0.2 uvicorn-0.22.0 visualdl-2.5.3 websockets-11.0.3 xxhash-3.4.1 yarl-1.9.4\n"
     ]
    },
    {
     "name": "stderr",
     "output_type": "stream",
     "text": [
      "ERROR: pip's dependency resolver does not currently take into account all the packages that are installed. This behaviour is the source of the following dependency conflicts.\n",
      "tensorflow-intel 2.11.0 requires numpy>=1.20, but you have numpy 1.19.3 which is incompatible.\n",
      "tensorflow-intel 2.11.0 requires protobuf<3.20,>=3.9.2, but you have protobuf 3.20.2 which is incompatible.\n"
     ]
    }
   ],
   "source": [
    "! pip install xlrd\n",
    "! pip install --upgrade paddlehub\n",
    "! pip install paddle-ernie"
   ]
  },
  {
   "cell_type": "markdown",
   "metadata": {},
   "source": [
    "按照数据集要求对其进行整理，格式为“序号\\t输入文本\\t标签”"
   ]
  },
  {
   "cell_type": "code",
   "execution_count": null,
   "metadata": {},
   "outputs": [],
   "source": [
    "import pandas as pd\n",
    "\n",
    "df = pd.read_excel(\"data.xlsx\")\n",
    "Keys = df[\"关键词\"].values\n",
    "Txts = df[\"文案\"].values\n",
    "\n",
    "with open(\"format_data.txt\", \"w\") as f:\n",
    "    for i, k in enumerate(Keys):\n",
    "        t = Txts[i]\n",
    "        # t = \"凡尔赛\"\n",
    "        f.write(\"{}\\t{}\\t{}\\n\".format(i, k, t))"
   ]
  },
  {
   "cell_type": "markdown",
   "metadata": {},
   "source": [
    "## 2. 调用Paddlehub模型进行预训练"
   ]
  },
  {
   "cell_type": "markdown",
   "metadata": {},
   "source": [
    "### 模型我们选用ERNIE-GEN模型\n",
    "\n",
    "论文地址：https://arxiv.org/abs/2001.11314\n",
    "\n",
    "![](https://ai-studio-static-online.cdn.bcebos.com/9698f8fef8004f579d01ca0d4a8a8255d58a8cc895c44d59b97141c82a23b833)\n"
   ]
  },
  {
   "cell_type": "code",
   "execution_count": 2,
   "metadata": {},
   "outputs": [
    {
     "name": "stderr",
     "output_type": "stream",
     "text": [
      "\u001b[32m[2020-12-10 22:26:30,355] [    INFO] - Installing ernie_gen module\u001b[0m\n"
     ]
    },
    {
     "name": "stdout",
     "output_type": "stream",
     "text": [
      "Downloading ernie_gen\n",
      "[==================================================] 100.00%\n",
      "Uncompress /home/aistudio/.paddlehub/tmp/tmp4ioerv1o/ernie_gen\n",
      "[==================================================] 100.00%\n"
     ]
    },
    {
     "name": "stderr",
     "output_type": "stream",
     "text": [
      "\u001b[32m[2020-12-10 22:26:34,769] [    INFO] - Successfully installed ernie_gen-1.0.2\u001b[0m\n",
      "2020-12-10 22:26:34,813-INFO: get pretrain dir from https://ernie-github.cdn.bcebos.com/model-ernie1.0.1.tar.gz\n",
      "downloading https://ernie-github.cdn.bcebos.com/model-ernie1.0.1.tar.gz: 788478KB [00:14, 53950.68KB/s]                            \n",
      "\u001b[32m[INFO] 2020-12-10 22:26:59,170 [feature_column.py:  349]:\treading raw files from format_data.txt\u001b[0m\n",
      "2020-12-10 22:26:59,174-INFO: get pretrain dir from https://ernie-github.cdn.bcebos.com/model-ernie1.0.1.tar.gz\n",
      "2020-12-10 22:27:02,458-INFO: loading pretrained model from /tmp/466eabcffd6d6a83ae9cb97dd1a167bd\n",
      "/opt/conda/envs/python35-paddle120-env/lib/python3.7/site-packages/paddle/fluid/dygraph/layers.py:718: UserWarning: Varibale [ pooler.weight pooler.bias ] are not used, because not included in layers state_dict\n",
      "  format(\" \".join(unused_para_list)))\n",
      "\u001b[32m[2020-12-10 22:27:09,748] [    INFO] - [step 0 / 1200]train loss 6.70396, ppl 815.63086, elr 0.000e+00\u001b[0m\n",
      "\u001b[32m[2020-12-10 22:27:31,429] [    INFO] - [step 100 / 1200]train loss 4.11473, ppl 61.23570, elr 4.167e-05\u001b[0m\n",
      "\u001b[32m[2020-12-10 22:27:53,068] [    INFO] - [step 200 / 1200]train loss 2.74297, ppl 15.53309, elr 4.167e-05\u001b[0m\n",
      "\u001b[32m[2020-12-10 22:28:14,802] [    INFO] - [step 300 / 1200]train loss 2.20646, ppl 9.08347, elr 3.750e-05\u001b[0m\n",
      "\u001b[32m[2020-12-10 22:28:36,874] [    INFO] - [step 400 / 1200]train loss 1.73751, ppl 5.68315, elr 3.333e-05\u001b[0m\n",
      "\u001b[32m[2020-12-10 22:28:36,875] [    INFO] - save the model in Versailles_param/step_400_ppl_5.68315\u001b[0m\n",
      "\u001b[32m[2020-12-10 22:29:01,927] [    INFO] - [step 500 / 1200]train loss 2.28282, ppl 9.80433, elr 2.917e-05\u001b[0m\n",
      "\u001b[32m[2020-12-10 22:29:21,656] [    INFO] - [step 600 / 1200]train loss 1.66694, ppl 5.29591, elr 2.500e-05\u001b[0m\n",
      "\u001b[32m[2020-12-10 22:29:41,022] [    INFO] - [step 700 / 1200]train loss 1.54020, ppl 4.66554, elr 2.083e-05\u001b[0m\n",
      "\u001b[32m[2020-12-10 22:30:00,048] [    INFO] - [step 800 / 1200]train loss 0.99123, ppl 2.69455, elr 1.667e-05\u001b[0m\n",
      "\u001b[32m[2020-12-10 22:30:00,049] [    INFO] - save the model in Versailles_param/step_800_ppl_2.69455\u001b[0m\n",
      "\u001b[32m[2020-12-10 22:30:24,166] [    INFO] - [step 900 / 1200]train loss 1.20773, ppl 3.34589, elr 1.250e-05\u001b[0m\n",
      "\u001b[32m[2020-12-10 22:30:43,950] [    INFO] - [step 1000 / 1200]train loss 0.74044, ppl 2.09686, elr 8.333e-06\u001b[0m\n",
      "\u001b[32m[2020-12-10 22:31:02,997] [    INFO] - [step 1100 / 1200]train loss 0.92916, ppl 2.53238, elr 4.167e-06\u001b[0m\n",
      "\u001b[32m[2020-12-10 22:31:22,075] [    INFO] - [step 1200 / 1200]train loss 1.05983, ppl 2.88587, elr 0.000e+00\u001b[0m\n",
      "\u001b[32m[2020-12-10 22:31:22,076] [    INFO] - save the model in Versailles_param/step_1200_ppl_2.88587\u001b[0m\n",
      "\u001b[32m[2020-12-10 22:31:27,124] [    INFO] - [final step 1201]train loss 0.78724, ppl 2.19731, elr 0.000e+00\u001b[0m\n",
      "\u001b[32m[2020-12-10 22:31:27,126] [    INFO] - save the model in Versailles_param/step_1201_ppl_2.19731\u001b[0m\n",
      "\u001b[32m[2020-12-10 22:31:31,939] [    INFO] - Begin export the model save in Versailles_param/step_1201_ppl_2.19731.pdparams ...\u001b[0m\n",
      "\u001b[32m[2020-12-10 22:31:32,682] [    INFO] - The module has exported to /home/aistudio/Versailles\u001b[0m\n"
     ]
    },
    {
     "name": "stdout",
     "output_type": "stream",
     "text": [
      "2020-12-10 22:31:38,676-INFO: font search path ['/opt/conda/envs/python35-paddle120-env/lib/python3.7/site-packages/matplotlib/mpl-data/fonts/ttf', '/opt/conda/envs/python35-paddle120-env/lib/python3.7/site-packages/matplotlib/mpl-data/fonts/afm', '/opt/conda/envs/python35-paddle120-env/lib/python3.7/site-packages/matplotlib/mpl-data/fonts/pdfcorefonts']\n",
      "2020-12-10 22:31:39,012-INFO: generated new fontManager\n",
      "Successfully installed Versailles\n"
     ]
    }
   ],
   "source": [
    "import paddlehub as hub\n",
    "\n",
    "module = hub.Module(name=\"ernie_gen\")\n",
    "\n",
    "result = module.finetune(\n",
    "    train_path='format_data.txt',\n",
    "    save_dir=\"Versailles_param\",\n",
    "    max_steps=1200,\n",
    "    noise_prob=0.1,\n",
    "    save_interval=400,\n",
    "    max_encode_len=60,\n",
    "    max_decode_len=60\n",
    ")\n",
    "\n",
    "# 将训练参数打包为hub model\n",
    "module.export(params_path=result['last_save_path'], module_name=\"Versailles\", author=\"lyp\")\n",
    "!hub install Versailles"
   ]
  },
  {
   "cell_type": "markdown",
   "metadata": {},
   "source": [
    "## 3. 运行预测"
   ]
  },
  {
   "cell_type": "code",
   "execution_count": null,
   "metadata": {},
   "outputs": [],
   "source": [
    "import paddlehub as hub\n",
    "\n",
    "module = hub.Module(directory=\"/home/aistudio/Versailles/\")"
   ]
  },
  {
   "cell_type": "code",
   "execution_count": 4,
   "metadata": {},
   "outputs": [
    {
     "name": "stdout",
     "output_type": "stream",
     "text": [
      "今天又是努力搬砖的一天！根本没时间摸鱼，中午只能休息两个小时，虽然五点就能准时下班，但早上十点就得到\n",
      "今天又是努力搬砖的一天！根本没时间摸鱼中午只能休息两个小时虽然五点就能准时下班但早上十点就得到公司还\n",
      "今天看中了一栋别墅，我真的好喜欢位置也好，跑到楼顶就能看见天安门。但是真的太贵啦，买下它要花掉我一个\n",
      "今天看中了一栋别墅,我真的好喜欢位置也好,跑到楼顶就能看见天安门。但是真的太贵啦,买下它要花掉我一个\n",
      "真羡慕那些可以随随便便离家出走的孩子，我都出来一个月了，还没走出我家草坪。\n",
      "真羡慕年轻人啊，活力满满见个冠军奖杯那么激动，不像我，拿好几次都没啥感觉了，上次还差点手滑给摔了。\n",
      "今天看中了一栋别墅，我真的好喜欢位置也好，跑到楼顶就能看见天安门，但是真的太贵啦，买下它要花掉我一个\n",
      "我在沙发上背单词，突然牛奶热好了我去拿，回来的时候发现没加书签。我问他：“我背到哪了？”他不慌不忙地\n",
      "今天又是努力搬砖的一天！根本没时间摸鱼中午只能休息两个小时虽然五点就能准时下班但早上十点就得到公司，\n",
      "真羡慕那些可以随随便便离家出走的孩子，我都出来一个月了，还没走出我家草坪\n"
     ]
    }
   ],
   "source": [
    "test_texts = [\"凡尔赛\"]\n",
    "results = module.generate(texts=test_texts, use_gpu=False, beam_width=10)\n",
    "for result in results[0]:\n",
    "    print(result)"
   ]
  },
  {
   "cell_type": "code",
   "execution_count": 5,
   "metadata": {},
   "outputs": [
    {
     "name": "stdout",
     "output_type": "stream",
     "text": [
      "最近去试完衣服顺路回家都买几捧玫瑰，老公突然就说要买一个带院子的房子，种满玫瑰叫园丁专门打理，但是玫\n",
      "难受了，我竟然错过了悉尼歌剧院的演出！因为他非得拉着我去挑什么房子，一个千佛山脚下的普通别墅而已，至\n",
      "最近去试完衣服顺路回家都买几捧玫瑰，老公突然就说要买一个带院子的房子，种满玫瑰叫园丁专门打理。\n",
      "“最近有个追求者给我在陆家嘴买了套房但是我不想要我已经在汤臣一品有三层了我觉得他是在用钱侮辱我呜呜呜\n",
      "难受了，我竟然错过了悉尼歌剧院的演出！因为他非得拉着我去挑什么房子。\n"
     ]
    }
   ],
   "source": [
    "test_texts = [\"房\"]\n",
    "results = module.generate(texts=test_texts, use_gpu=False, beam_width=5)\n",
    "for result in results[0]:\n",
    "    print(result)"
   ]
  },
  {
   "cell_type": "code",
   "execution_count": 6,
   "metadata": {},
   "outputs": [
    {
     "name": "stdout",
     "output_type": "stream",
     "text": [
      "今天皮带忘带了去gucci随便买了个结果打孔的时候店员说腰太细了她从来没打过这么细的我觉得女生圆润一点好的呀\n",
      "“今天皮带忘带了去gucci随便买了个结果打孔的时候店员说腰太细了她从来没打过这么细的我觉得女生圆润一点好的\n",
      "今天皮带忘带了去gucci随便买了个结果打孔的时候店员说腰太细了她从来没打过这么近的我觉得女生圆润一点好的呀\n",
      "“今天皮带忘带了去gucci随便买了个结果打孔的时候店员说腰太细了她从来没打过这么近的我觉得女生圆润一点好的\n",
      "最近老公发了个朋友圈，说特朗普落选那天全朋友圈消费由他买单，虽然我知道他是开玩笑的，但是他那帮朋友真\n"
     ]
    }
   ],
   "source": [
    "test_texts = [\"老公\"]\n",
    "results = module.generate(texts=test_texts, use_gpu=False, beam_width=5)\n",
    "for result in results[0]:\n",
    "    print(result)"
   ]
  },
  {
   "cell_type": "markdown",
   "metadata": {},
   "source": [
    "## 4. 改进方向：\n",
    "\n",
    "可以看到数据集太少，出现了明显的过拟合现象，可以多搜集一些。"
   ]
  }
 ],
 "metadata": {
  "kernelspec": {
   "display_name": "Python 3 (ipykernel)",
   "language": "python",
   "name": "python3"
  },
  "language_info": {
   "codemirror_mode": {
    "name": "ipython",
    "version": 3
   },
   "file_extension": ".py",
   "mimetype": "text/x-python",
   "name": "python",
   "nbconvert_exporter": "python",
   "pygments_lexer": "ipython3",
   "version": "3.7.2"
  }
 },
 "nbformat": 4,
 "nbformat_minor": 1
}
